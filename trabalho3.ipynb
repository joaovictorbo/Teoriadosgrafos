{
 "cells": [
  {
   "cell_type": "markdown",
   "metadata": {},
   "source": [
    "## Leitura do Grafo"
   ]
  },
  {
   "cell_type": "code",
   "execution_count": 120,
   "metadata": {},
   "outputs": [],
   "source": [
    "def read_graph(file_path):\n",
    "    adjacency_matrix = []\n",
    "    adjacency_list = {}\n",
    "    \n",
    "    with open(file_path, 'r') as file:\n",
    "        lines = file.readlines()\n",
    "        lines.pop(0)\n",
    "        for i in range(len(lines)):\n",
    "            lines[i] = lines[i].split()\n",
    "            lines[i] = [int(x) for x in lines[i]]\n",
    "        for line in lines:\n",
    "            adjacency_matrix.append(line)\n",
    "        for i in range(len(adjacency_matrix)):\n",
    "            adjacency_list[i] = []\n",
    "            for j in range(len(adjacency_matrix[i])):\n",
    "                if adjacency_matrix[i][j] == 1:\n",
    "                    adjacency_list[i].append(j)\n",
    "                    \n",
    "    return adjacency_matrix, adjacency_list\n",
    "\n",
    "def get_arestas(lista_adj):\n",
    "    arestas = []\n",
    "    for vertex1, neighbors in lista_adj.items():\n",
    "        for vertex2 in neighbors:\n",
    "            arestas.append((vertex1, vertex2))\n",
    "    return arestas\n"
   ]
  },
  {
   "cell_type": "code",
   "execution_count": 141,
   "metadata": {},
   "outputs": [
    {
     "name": "stdout",
     "output_type": "stream",
     "text": [
      "Adjacency Matrix:\n",
      "[0, 1, 1, 1, 0, 0, 0]\n",
      "[1, 0, 1, 1, 0, 0, 0]\n",
      "[1, 1, 0, 1, 1, 1, 0]\n",
      "[1, 1, 1, 0, 0, 0, 0]\n",
      "[0, 0, 1, 0, 0, 1, 1]\n",
      "[0, 0, 1, 0, 1, 0, 1]\n",
      "[0, 0, 0, 0, 1, 1, 0]\n",
      "Adjacency List:\n",
      "0: [1, 2, 3]\n",
      "1: [0, 2, 3]\n",
      "2: [0, 1, 3, 4, 5]\n",
      "3: [0, 1, 2]\n",
      "4: [2, 5, 6]\n",
      "5: [2, 4, 6]\n",
      "6: [4, 5]\n",
      "Lista de arestas: \n",
      " [(0, 1), (0, 2), (0, 3), (1, 0), (1, 2), (1, 3), (2, 0), (2, 1), (2, 3), (2, 4), (2, 5), (3, 0), (3, 1), (3, 2), (4, 2), (4, 5), (4, 6), (5, 2), (5, 4), (5, 6), (6, 4), (6, 5)]\n"
     ]
    }
   ],
   "source": [
    "\n",
    "adjacency_matrix, adjacency_list = read_graph('grafo.txt')\n",
    "lista_arestas = get_arestas(adjacency_list)\n",
    "print(\"Adjacency Matrix:\")\n",
    "for row in adjacency_matrix:\n",
    "    print(row)\n",
    "print(\"Adjacency List:\")\n",
    "for vertex, neighbors in adjacency_list.items():\n",
    "    print(f\"{vertex}: {neighbors}\")\n",
    "print(\"Lista de arestas: \\n\", lista_arestas)\n"
   ]
  },
  {
   "cell_type": "markdown",
   "metadata": {},
   "source": [
    "## Fusão de Vertices"
   ]
  },
  {
   "cell_type": "code",
   "execution_count": 138,
   "metadata": {},
   "outputs": [],
   "source": [
    "def fusion_vertex(adjacency_list, vertex1, vertex2):\n",
    "    adjacency_list[vertex1].extend(adjacency_list[vertex2])\n",
    "    adjacency_list.pop(vertex2)\n",
    "    while vertex2 in adjacency_list[vertex1]:\n",
    "        adjacency_list[vertex1].remove(vertex2)\n",
    "    while vertex1 in adjacency_list[vertex1]:\n",
    "        adjacency_list[vertex1].remove(vertex1)\n",
    "\n",
    "    for vertex in adjacency_list:\n",
    "        for neighbor in adjacency_list[vertex]:\n",
    "            if neighbor == vertex2:\n",
    "                adjacency_list[vertex][adjacency_list[vertex].index(neighbor)] = vertex1\n",
    "    \n",
    "    return adjacency_list\n",
    "    "
   ]
  },
  {
   "cell_type": "markdown",
   "metadata": {},
   "source": [
    "## Algoritmo de Karger"
   ]
  },
  {
   "cell_type": "code",
   "execution_count": 139,
   "metadata": {},
   "outputs": [],
   "source": [
    "import random\n",
    "def karger(adjacency_list, edges):\n",
    "    while len(adjacency_list) > 1:\n",
    "        # Select a random edge\n",
    "        vertex1, vertex2 = random.choice(edges)\n",
    "        \n",
    "        # Check if vertex1 is already a neighbor of vertex2\n",
    "        if vertex1 in adjacency_list[vertex2]:\n",
    "            # Call the fusion_vertex function\n",
    "            adjacency_list = fusion_vertex(adjacency_list, vertex1, vertex2)\n",
    "            edges = get_arestas(adjacency_list)\n",
    "\n",
    "    num_edges = len(edges) \n",
    "    num_edges = num_edges / 2 \n",
    "    return num_edges\n",
    "    "
   ]
  },
  {
   "cell_type": "code",
   "execution_count": 153,
   "metadata": {},
   "outputs": [
    {
     "name": "stdout",
     "output_type": "stream",
     "text": [
      "11.0\n"
     ]
    }
   ],
   "source": [
    "print(karger(adjacency_list, lista_arestas))"
   ]
  },
  {
   "cell_type": "markdown",
   "metadata": {},
   "source": [
    "## Algoritmo Ingênuo"
   ]
  },
  {
   "cell_type": "code",
   "execution_count": 125,
   "metadata": {},
   "outputs": [],
   "source": [
    "import numpy as np\n",
    "\n",
    "def ingenuo(lista_adj, arestas):\n",
    "    vertices = list(lista_adj.keys())\n",
    "    grupo1 = []\n",
    "    tam_grupo = np.random.randint(len(vertices))\n",
    "    for i in range(tam_grupo):\n",
    "        x = np.random.randint(len(vertices))\n",
    "        grupo1.append(vertices[x])\n",
    "        vertices.pop(x)\n",
    "\n",
    "    solucao = []\n",
    "    grupo2 = vertices\n",
    "    for i in range(len(arestas)):\n",
    "        if ((arestas[i][0] in grupo1) and (arestas[i][1] not in grupo1)) or ((arestas[i][1] in grupo1) and (arestas[i][0] not in grupo1)):\n",
    "            if (arestas[i][0], arestas[i][1]) not in solucao and (arestas[i][1], arestas[i][0]) not in solucao:\n",
    "                solucao.append(arestas[i])\n",
    "                # print(\"esse aqui é o grupo de vertices 1:\",grupo1)\n",
    "                # print(\"esse aqui é o grupo de vertices 2:\",grupo2)\n",
    "                # print(\"essa é a solução: \",ingenuo(solucao))\n",
    "    return len(solucao)\n"
   ]
  },
  {
   "cell_type": "code",
   "execution_count": 126,
   "metadata": {},
   "outputs": [
    {
     "name": "stdout",
     "output_type": "stream",
     "text": [
      "6\n"
     ]
    }
   ],
   "source": [
    "print(ingenuo(adjacency_list, lista_arestas))"
   ]
  },
  {
   "cell_type": "markdown",
   "metadata": {},
   "source": [
    "## Dicionario de probablidades"
   ]
  },
  {
   "cell_type": "code",
   "execution_count": 127,
   "metadata": {},
   "outputs": [],
   "source": [
    "def get_prob_n_iter(n_iter, algoritmo, adjacency_list, arestas):\n",
    "    count_dict = {}\n",
    "    for j in range (100):\n",
    "        min_return = float('inf') # Initialize with a large value\n",
    "        for i in range(n_iter):\n",
    "            adjacency_matrix, adjacency_list = read_graph('grafo.txt')\n",
    "            return_value = algoritmo(adjacency_list, arestas)\n",
    "            if return_value < min_return:\n",
    "                min_return = return_value\n",
    "        if min_return not in count_dict:\n",
    "            count_dict[min_return] = 1\n",
    "        else:\n",
    "            count_dict[min_return] += 1\n",
    "\n",
    "    return count_dict"
   ]
  },
  {
   "cell_type": "code",
   "execution_count": 128,
   "metadata": {},
   "outputs": [
    {
     "name": "stdout",
     "output_type": "stream",
     "text": [
      "Karger:  {2.0: 94, 3.0: 6}\n",
      "Ingenuo:  {3: 21, 0: 64, 5: 1, 2: 12, 6: 1, 4: 1}\n"
     ]
    }
   ],
   "source": [
    "n_iterr = 6\n",
    "print(\"Karger: \", get_prob_n_iter(n_iterr, karger, adjacency_list, lista_arestas))\n",
    "print(\"Ingenuo: \", get_prob_n_iter(n_iterr, ingenuo, adjacency_list, lista_arestas))"
   ]
  },
  {
   "cell_type": "markdown",
   "metadata": {},
   "source": [
    "# Curvas de probabilidade"
   ]
  },
  {
   "cell_type": "markdown",
   "metadata": {},
   "source": [
    "### Dados para as curvas"
   ]
  },
  {
   "cell_type": "code",
   "execution_count": 129,
   "metadata": {},
   "outputs": [
    {
     "name": "stdout",
     "output_type": "stream",
     "text": [
      "iter:  1\n",
      "Karger: 41\n",
      "ingenuo: 4\n",
      "iter:  2\n",
      "Karger: 58\n",
      "ingenuo: 9\n",
      "iter:  3\n",
      "Karger: 72\n",
      "ingenuo: 11\n",
      "iter:  4\n",
      "Karger: 88\n",
      "ingenuo: 17\n",
      "iter:  5\n",
      "Karger: 96\n",
      "ingenuo: 11\n",
      "iter:  6\n",
      "Karger: 94\n",
      "ingenuo: 12\n",
      "iter:  7\n",
      "Karger: 97\n",
      "ingenuo: 12\n",
      "iter:  8\n",
      "Karger: 97\n",
      "ingenuo: 13\n",
      "iter:  9\n",
      "Karger: 99\n",
      "ingenuo: 10\n",
      "iter:  10\n",
      "Karger: 99\n",
      "ingenuo: 9\n",
      "iter:  11\n",
      "Karger: 98\n",
      "ingenuo: 8\n",
      "iter:  12\n",
      "Karger: 100\n",
      "ingenuo: 9\n",
      "iter:  13\n",
      "Karger: 100\n",
      "ingenuo: 9\n",
      "iter:  14\n",
      "Karger: 100\n",
      "ingenuo: 16\n",
      "iter:  15\n",
      "Karger: 100\n",
      "ingenuo: 4\n",
      "iter:  16\n",
      "Karger: 100\n",
      "ingenuo: 3\n",
      "iter:  17\n",
      "Karger: 100\n",
      "ingenuo: 1\n",
      "iter:  18\n",
      "Karger: 100\n",
      "ingenuo: 5\n",
      "iter:  19\n",
      "Karger: 100\n",
      "ingenuo: 5\n",
      "iter:  20\n",
      "Karger: 100\n",
      "ingenuo: 2\n",
      "[41, 58, 72, 88, 96, 94, 97, 97, 99, 99, 98, 100, 100, 100, 100, 100, 100, 100, 100, 100]\n",
      "[4, 9, 11, 17, 11, 12, 12, 13, 10, 9, 8, 9, 9, 16, 4, 3, 1, 5, 5, 2]\n"
     ]
    }
   ],
   "source": [
    "# Dados para as curvas\n",
    "corte_min = 2\n",
    "n_iter = 20\n",
    "\n",
    "# criando a lista\n",
    "lista_karger = []\n",
    "lista_ingenuo = []\n",
    "for i in range(1, n_iter+1):\n",
    "    print(\"iter: \", i)\n",
    "    prob_karger = get_prob_n_iter(i, karger, adjacency_list, lista_arestas)\n",
    "    prob_ingenuo = get_prob_n_iter(i, ingenuo, adjacency_list, lista_arestas)\n",
    "    \n",
    "    print(f\"Karger: {prob_karger[corte_min]}\")\n",
    "    print(f\"ingenuo: {prob_ingenuo[corte_min]}\")\n",
    "\n",
    "    lista_karger.append(prob_karger[corte_min])\n",
    "    lista_ingenuo.append(prob_ingenuo[corte_min])\n",
    "\n",
    "print(lista_karger)\n",
    "print(lista_ingenuo)\n"
   ]
  },
  {
   "cell_type": "markdown",
   "metadata": {},
   "source": [
    "### Plot do grafico"
   ]
  },
  {
   "cell_type": "code",
   "execution_count": 130,
   "metadata": {},
   "outputs": [
    {
     "data": {
      "image/png": "[encoded data removed]",
      "text/plain": [
       "<Figure size 640x480 with 1 Axes>"
      ]
     },
     "metadata": {},
     "output_type": "display_data"
    }
   ],
   "source": [
    "import matplotlib.pyplot as plt\n",
    "\n",
    "# Dados das lista\n",
    "y1 = lista_karger\n",
    "y2 = lista_ingenuo\n",
    "x = [i for i in range(1, n_iter+1)]\n",
    "\n",
    "# Plotagem das curvas\n",
    "plt.plot(x, y1, label='Karger')\n",
    "plt.plot(x, y2, label='Ingênuo')\n",
    "\n",
    "plt.xticks(range(1, n_iter+1, 1))\n",
    "plt.yticks(range(5, 105, 5))\n",
    "\n",
    "# Adicionando rótulos aos eixos\n",
    "plt.xlabel('N iterações')\n",
    "plt.ylabel('Prob. de corte min.')\n",
    "\n",
    "# Adicionando uma legenda\n",
    "plt.legend()\n",
    "plt.title(f'Corte minimo: {corte_min}')\n",
    "\n",
    "# Exibindo o gráfico\n",
    "plt.show()\n"
   ]
  }
 ],
 "metadata": {
  "kernelspec": {
   "display_name": "Python 3",
   "language": "python",
   "name": "python3"
  },
  "language_info": {
   "codemirror_mode": {
    "name": "ipython",
    "version": 3
   },
   "file_extension": ".py",
   "mimetype": "text/x-python",
   "name": "python",
   "nbconvert_exporter": "python",
   "pygments_lexer": "ipython3",
   "version": "3.10.7"
  }
 },
 "nbformat": 4,
 "nbformat_minor": 2
}
