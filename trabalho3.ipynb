{
 "cells": [
  {
   "cell_type": "code",
   "execution_count": 294,
   "metadata": {},
   "outputs": [
    {
     "name": "stdout",
     "output_type": "stream",
     "text": [
      "Adjacency Matrix:\n",
      "[0, 1, 1, 1, 0, 0, 0]\n",
      "[1, 0, 1, 1, 0, 0, 0]\n",
      "[1, 1, 0, 1, 1, 1, 0]\n",
      "[1, 1, 1, 0, 0, 0, 0]\n",
      "[0, 0, 1, 0, 0, 1, 1]\n",
      "[0, 0, 1, 0, 1, 0, 1]\n",
      "[0, 0, 0, 0, 1, 1, 0]\n",
      "Adjacency List:\n",
      "0: [1, 2, 3]\n",
      "1: [0, 2, 3]\n",
      "2: [0, 1, 3, 4, 5]\n",
      "3: [0, 1, 2]\n",
      "4: [2, 5, 6]\n",
      "5: [2, 4, 6]\n",
      "6: [4, 5]\n"
     ]
    }
   ],
   "source": [
    "def read_graph(file_path):\n",
    "    adjacency_matrix = []\n",
    "    adjacency_list = {}\n",
    "    \n",
    "    with open(file_path, 'r') as file:\n",
    "        lines = file.readlines()\n",
    "        lines.pop(0)\n",
    "        for i in range(len(lines)):\n",
    "            lines[i] = lines[i].split()\n",
    "            lines[i] = [int(x) for x in lines[i]]\n",
    "        for line in lines:\n",
    "            adjacency_matrix.append(line)\n",
    "        for i in range(len(adjacency_matrix)):\n",
    "            adjacency_list[i] = []\n",
    "            for j in range(len(adjacency_matrix[i])):\n",
    "                if adjacency_matrix[i][j] == 1:\n",
    "                    adjacency_list[i].append(j)\n",
    "                    \n",
    "\n",
    "    \n",
    "    return adjacency_matrix, adjacency_list\n",
    "\n",
    "adjacency_matrix, adjacency_list = read_graph('grafo.txt')\n",
    "print(\"Adjacency Matrix:\")\n",
    "for row in adjacency_matrix:\n",
    "    print(row)\n",
    "print(\"Adjacency List:\")\n",
    "for vertex, neighbors in adjacency_list.items():\n",
    "    print(f\"{vertex}: {neighbors}\")\n"
   ]
  },
  {
   "cell_type": "code",
   "execution_count": 295,
   "metadata": {},
   "outputs": [],
   "source": [
    "def fusion_vertex(adjacency_list, vertex1, vertex2):\n",
    "    print(adjacency_list)\n",
    "    adjacency_list[vertex1].extend(adjacency_list[vertex2])\n",
    "    adjacency_list.pop(vertex2)\n",
    "    while vertex2 in adjacency_list[vertex1]:\n",
    "        adjacency_list[vertex1].remove(vertex2)\n",
    "    while vertex1 in adjacency_list[vertex1]:\n",
    "        adjacency_list[vertex1].remove(vertex1)\n",
    "\n",
    "    for vertex in adjacency_list:\n",
    "        for neighbor in adjacency_list[vertex]:\n",
    "            if neighbor == vertex2:\n",
    "                adjacency_list[vertex][adjacency_list[vertex].index(neighbor)] = vertex1\n",
    "    \n",
    "    \n",
    "    \n",
    "    \n",
    "    return adjacency_list\n"
   ]
  },
  {
   "cell_type": "code",
   "execution_count": 296,
   "metadata": {},
   "outputs": [
    {
     "name": "stdout",
     "output_type": "stream",
     "text": [
      "{0: [1, 2, 3], 1: [0, 2, 3], 2: [0, 1, 3, 4, 5], 3: [0, 1, 2], 4: [2, 5, 6], 5: [2, 4, 6], 6: [4, 5]}\n",
      "{0: [1, 1, 3], 1: [0, 3, 0, 3, 4, 5], 3: [0, 1, 1], 4: [1, 5, 6], 5: [1, 4, 6], 6: [4, 5]}\n",
      "{1: [3, 3, 4, 5, 3], 3: [1, 1, 1], 4: [1, 5, 6], 5: [1, 4, 6], 6: [4, 5]}\n",
      "{1: [3, 3, 5, 3, 5, 6], 3: [1, 1, 1], 5: [1, 1, 6], 6: [1, 5]}\n",
      "{3: [5, 5, 6], 5: [3, 3, 6], 6: [3, 5]}\n",
      "{5: [6, 6], 6: [5, 5]}\n"
     ]
    },
    {
     "name": "stderr",
     "output_type": "stream",
     "text": [
      "/tmp/ipykernel_7717/945894136.py:5: DeprecationWarning: Sampling from a set deprecated\n",
      "since Python 3.9 and will be removed in a subsequent version.\n",
      "  vertex1, vertex2 = random.sample(adjacency_list.keys(), 2)\n"
     ]
    }
   ],
   "source": [
    "import random\n",
    "\n",
    "while len(adjacency_list) > 1:\n",
    "    # Select two random vertices\n",
    "    vertex1, vertex2 = random.sample(adjacency_list.keys(), 2)\n",
    "    \n",
    "    # Check if vertex1 is already a neighbor of vertex2\n",
    "    if vertex1 in adjacency_list[vertex2]:\n",
    "        # Call the fusion_vertex function\n",
    "        adjacency_list = fusion_vertex(adjacency_list, vertex1, vertex2)\n"
   ]
  }
 ],
 "metadata": {
  "kernelspec": {
   "display_name": "Python 3",
   "language": "python",
   "name": "python3"
  },
  "language_info": {
   "codemirror_mode": {
    "name": "ipython",
    "version": 3
   },
   "file_extension": ".py",
   "mimetype": "text/x-python",
   "name": "python",
   "nbconvert_exporter": "python",
   "pygments_lexer": "ipython3",
   "version": "3.10.12"
  }
 },
 "nbformat": 4,
 "nbformat_minor": 2
}
