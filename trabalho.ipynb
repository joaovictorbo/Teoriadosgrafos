{
 "cells": [
  {
   "cell_type": "code",
   "execution_count": 21,
   "metadata": {},
   "outputs": [
    {
     "name": "stdout",
     "output_type": "stream",
     "text": [
      "Adjacency Matrix:\n",
      "[0, 0, 1, 0, 1, 0, 1, 0, 0, 0]\n",
      "[0, 0, 0, 0, 0, 1, 0, 1, 0, 0]\n",
      "[1, 0, 0, 1, 1, 1, 0, 0, 0, 1]\n",
      "[0, 0, 1, 0, 1, 0, 0, 0, 0, 0]\n",
      "[1, 0, 1, 1, 0, 0, 0, 0, 0, 0]\n",
      "[0, 1, 1, 0, 0, 0, 0, 0, 0, 0]\n",
      "[1, 0, 0, 0, 0, 0, 0, 1, 0, 0]\n",
      "[0, 1, 0, 0, 0, 0, 1, 0, 1, 0]\n",
      "[0, 0, 0, 0, 0, 0, 0, 1, 0, 1]\n",
      "[0, 0, 1, 0, 0, 0, 0, 0, 1, 0]\n",
      "Adjacency List:\n",
      "0: [2, 4, 6]\n",
      "1: [5, 7]\n",
      "2: [0, 3, 4, 5, 9]\n",
      "3: [2, 4]\n",
      "4: [0, 2, 3]\n",
      "5: [1, 2]\n",
      "6: [0, 7]\n",
      "7: [1, 6, 8]\n",
      "8: [7, 9]\n",
      "9: [2, 8]\n"
     ]
    }
   ],
   "source": [
    "def read_graph(file_path):\n",
    "    adjacency_matrix = []\n",
    "    adjacency_list = {}\n",
    "    \n",
    "    with open(file_path, 'r') as file:\n",
    "        lines = file.readlines()\n",
    "        lines.pop(0)\n",
    "        for i in range(len(lines)):\n",
    "            lines[i] = lines[i].split()\n",
    "            lines[i] = [int(x) for x in lines[i]]\n",
    "        for line in lines:\n",
    "            adjacency_matrix.append(line)\n",
    "        for i in range(len(adjacency_matrix)):\n",
    "            adjacency_list[i] = []\n",
    "            for j in range(len(adjacency_matrix[i])):\n",
    "                if adjacency_matrix[i][j] == 1:\n",
    "                    adjacency_list[i].append(j)\n",
    "                    \n",
    "\n",
    "    \n",
    "    return adjacency_matrix, adjacency_list\n",
    "\n",
    "adjacency_matrix, adjacency_list = read_graph('graph_2.txt')\n",
    "print(\"Adjacency Matrix:\")\n",
    "for row in adjacency_matrix:\n",
    "    print(row)\n",
    "print(\"Adjacency List:\")\n",
    "for vertex, neighbors in adjacency_list.items():\n",
    "    print(f\"{vertex}: {neighbors}\")\n",
    "\n",
    "#Grafo.txt é tudo azul\n",
    "#graph_2.txt tem aresta de retorno pra dfs\n",
    "#todos os outros grafos disponibilizados pelo dropbox não são direcionais. portanto sem arestas verdes e amarelas para dfs\n",
    "#digrafo é o grafo direcional do slide 125 do busca_em_grafos visto em sala"
   ]
  },
  {
   "cell_type": "code",
   "execution_count": 22,
   "metadata": {},
   "outputs": [
    {
     "name": "stdout",
     "output_type": "stream",
     "text": [
      "0 -> 2\n",
      "2 -> 3\n",
      "3 -> 4\n",
      "2 -> 5\n",
      "5 -> 1\n",
      "1 -> 7\n",
      "7 -> 6\n",
      "7 -> 8\n",
      "8 -> 9\n",
      "Colors:\n",
      "(0, 2): blue\n",
      "(0, 4): red\n",
      "(0, 6): red\n",
      "(1, 5): blue\n",
      "(1, 7): blue\n",
      "(2, 3): blue\n",
      "(2, 4): red\n",
      "(2, 5): blue\n",
      "(2, 9): red\n",
      "(3, 4): blue\n",
      "(6, 7): blue\n",
      "(7, 8): blue\n",
      "(8, 9): blue\n"
     ]
    }
   ],
   "source": [
    "visited = []\n",
    "pai = {}\n",
    "colors = {}\n",
    "\n",
    "def depth_first_search(graph, start_vertex):\n",
    "    global visited, pai, colors\n",
    "    t = 0\n",
    "    t = t + 1\n",
    "    visited.append(start_vertex)\n",
    "    for vertex in graph[start_vertex]:\n",
    "        if vertex not in visited:\n",
    "            pai[vertex] = start_vertex\n",
    "            print(f\"{start_vertex} -> {vertex}\")\n",
    "            if (start_vertex, vertex) not in colors and (vertex, start_vertex) not in colors:\n",
    "                colors[(start_vertex, vertex)] = \"blue\"\n",
    "            visited.append(vertex)\n",
    "            depth_first_search(graph, vertex)\n",
    "        else:\n",
    "            if (start_vertex, vertex) not in colors and (vertex, start_vertex) not in colors:\n",
    "                colors[(start_vertex, vertex)] = \"red\"\n",
    "\n",
    "depth_first_search(adjacency_list, 0)\n",
    "print(\"Colors:\")\n",
    "colors = {(min(a, b), max(a, b)): color for (a, b), color in colors.items()}\n",
    "colors = dict(sorted(colors.items()))\n",
    "\n",
    "for edge, color in colors.items():\n",
    "    print(f\"{edge}: {color}\")\n",
    "\n",
    "\n"
   ]
  },
  {
   "cell_type": "markdown",
   "metadata": {},
   "source": []
  },
  {
   "cell_type": "code",
   "execution_count": 23,
   "metadata": {},
   "outputs": [
    {
     "name": "stdout",
     "output_type": "stream",
     "text": [
      "0 -> 2\n",
      "0 -> 4\n",
      "0 -> 6\n",
      "2 -> 3\n",
      "2 -> 5\n",
      "2 -> 9\n",
      "6 -> 7\n",
      "5 -> 1\n",
      "9 -> 8\n",
      "Colors:\n",
      "(0, 2): blue\n",
      "(0, 4): blue\n",
      "(0, 6): blue\n",
      "(1, 5): blue\n",
      "(1, 7): red\n",
      "(2, 3): blue\n",
      "(2, 4): red\n",
      "(2, 5): blue\n",
      "(2, 9): blue\n",
      "(3, 4): red\n",
      "(6, 7): blue\n",
      "(7, 8): red\n",
      "(8, 9): blue\n"
     ]
    }
   ],
   "source": [
    "from collections import deque\n",
    "\n",
    "def breadth_first_search(graph, start_vertex):\n",
    "    visited = []\n",
    "    pai = {}\n",
    "    colors = {}\n",
    "    queue = deque([start_vertex])\n",
    "\n",
    "    while queue:\n",
    "        vertex = queue.popleft()\n",
    "        visited.append(vertex)\n",
    "\n",
    "        for neighbor in graph[vertex]:\n",
    "            if neighbor not in visited:\n",
    "                queue.append(neighbor)\n",
    "                pai[neighbor] = vertex\n",
    "                print(f\"{vertex} -> {neighbor}\")\n",
    "                if (vertex, neighbor) not in colors and (neighbor, vertex) not in colors:\n",
    "                    colors[(vertex, neighbor)] = \"blue\"\n",
    "                visited.append(neighbor)\n",
    "            else:\n",
    "                if (vertex, neighbor) not in colors and (neighbor, vertex) not in colors:\n",
    "                    colors[(vertex, neighbor)] = \"red\"\n",
    "\n",
    "    print(\"Colors:\")\n",
    "    colors = {(min(a, b), max(a, b)): color for (a, b), color in colors.items()}\n",
    "    colors = dict(sorted(colors.items()))\n",
    "\n",
    "    for edge, color in colors.items():\n",
    "        print(f\"{edge}: {color}\")\n",
    "\n",
    "breadth_first_search(adjacency_list, 0)\n",
    "\n"
   ]
  },
  {
   "cell_type": "code",
   "execution_count": 24,
   "metadata": {},
   "outputs": [
    {
     "name": "stdout",
     "output_type": "stream",
     "text": [
      "0 -> 2\n",
      "0 -> 4\n",
      "0 -> 6\n",
      "2 -> 3\n",
      "2 -> 5\n",
      "2 -> 9\n",
      "6 -> 7\n",
      "5 -> 1\n",
      "9 -> 8\n",
      "Colors:\n",
      "(0, 2): blue\n",
      "(0, 4): blue\n",
      "(0, 6): blue\n",
      "(1, 5): blue\n",
      "(1, 7): red\n",
      "(2, 3): blue\n",
      "(2, 4): red\n",
      "(2, 5): blue\n",
      "(2, 9): blue\n",
      "(3, 4): red\n",
      "(6, 7): blue\n",
      "(7, 8): red\n",
      "(8, 9): blue\n"
     ]
    }
   ],
   "source": [
    "breadth_first_search(adjacency_list, 0)"
   ]
  }
 ],
 "metadata": {
  "kernelspec": {
   "display_name": "Python 3",
   "language": "python",
   "name": "python3"
  },
  "language_info": {
   "codemirror_mode": {
    "name": "ipython",
    "version": 3
   },
   "file_extension": ".py",
   "mimetype": "text/x-python",
   "name": "python",
   "nbconvert_exporter": "python",
   "pygments_lexer": "ipython3",
   "version": "3.10.12"
  }
 },
 "nbformat": 4,
 "nbformat_minor": 2
}
