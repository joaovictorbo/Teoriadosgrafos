{
 "cells": [
  {
   "cell_type": "code",
   "execution_count": 6,
   "metadata": {},
   "outputs": [
    {
     "name": "stdout",
     "output_type": "stream",
     "text": [
      "Adjacency Matrix:\n",
      "[0, 0, 1, 0, 1, 0, 1, 0, 0, 0]\n",
      "[0, 0, 0, 0, 0, 1, 0, 1, 0, 0]\n",
      "[1, 0, 0, 1, 1, 1, 0, 0, 0, 1]\n",
      "[0, 0, 1, 0, 1, 0, 0, 0, 0, 0]\n",
      "[1, 0, 1, 1, 0, 0, 0, 0, 0, 0]\n",
      "[0, 1, 1, 0, 0, 0, 0, 0, 0, 0]\n",
      "[1, 0, 0, 0, 0, 0, 0, 1, 0, 0]\n",
      "[0, 1, 0, 0, 0, 0, 1, 0, 1, 0]\n",
      "[0, 0, 0, 0, 0, 0, 0, 1, 0, 1]\n",
      "[0, 0, 1, 0, 0, 0, 0, 0, 1, 0]\n",
      "Adjacency List:\n",
      "0: [2, 4, 6]\n",
      "1: [5, 7]\n",
      "2: [0, 3, 4, 5, 9]\n",
      "3: [2, 4]\n",
      "4: [0, 2, 3]\n",
      "5: [1, 2]\n",
      "6: [0, 7]\n",
      "7: [1, 6, 8]\n",
      "8: [7, 9]\n",
      "9: [2, 8]\n"
     ]
    }
   ],
   "source": [
    "def read_graph(file_path):\n",
    "    adjacency_matrix = []\n",
    "    adjacency_list = {}\n",
    "    \n",
    "    with open(file_path, 'r') as file:\n",
    "        lines = file.readlines()\n",
    "        lines.pop(0)\n",
    "        for i in range(len(lines)):\n",
    "            lines[i] = lines[i].split()\n",
    "            lines[i] = [int(x) for x in lines[i]]\n",
    "        for line in lines:\n",
    "            adjacency_matrix.append(line)\n",
    "        for i in range(len(adjacency_matrix)):\n",
    "            adjacency_list[i] = []\n",
    "            for j in range(len(adjacency_matrix[i])):\n",
    "                if adjacency_matrix[i][j] == 1:\n",
    "                    adjacency_list[i].append(j)\n",
    "                    \n",
    "\n",
    "    \n",
    "    return adjacency_matrix, adjacency_list\n",
    "\n",
    "adjacency_matrix, adjacency_list = read_graph('graph_2.txt')\n",
    "print(\"Adjacency Matrix:\")\n",
    "for row in adjacency_matrix:\n",
    "    print(row)\n",
    "print(\"Adjacency List:\")\n",
    "for vertex, neighbors in adjacency_list.items():\n",
    "    print(f\"{vertex}: {neighbors}\")\n",
    "\n",
    "#Grafo.txt é tudo azul\n",
    "#graph_2.txt tem aresta de retorno pra dfs\n",
    "#todos os outros grafos disponibilizados pelo dropbox não são direcionais. portanto sem arestas verdes e amarelas para dfs\n",
    "#digrafo é o grafo direcional do slide 125 do busca_em_grafos visto em sala"
   ]
  },
  {
   "cell_type": "code",
   "execution_count": null,
   "metadata": {},
   "outputs": [],
   "source": [
    "def depth_first_search(graph, start_vertex): #graph é a lista de adjecencia\n",
    "    visited = set()\n",
    "    stack = [(start_vertex, 'open')]\n",
    "    opening_time = {}\n",
    "    closing_time = {}\n",
    "    time = 1\n",
    "    edge_colors = {}  # New variable to store edge colors\n",
    "\n",
    "    while stack:\n",
    "        vertex, status = stack.pop()\n",
    "\n",
    "        if status == 'open':\n",
    "            if vertex not in visited:\n",
    "                visited.add(vertex)\n",
    "                opening_time[vertex] = time\n",
    "                time += 1\n",
    "                stack.append((vertex, 'close'))\n",
    "                stack.extend((neighbor, 'open') for neighbor in graph[vertex] if neighbor not in visited)\n",
    "                for neighbor in graph[vertex]:\n",
    "                    if neighbor not in visited:\n",
    "                        if (vertex+1, neighbor+1) in edge_colors:\n",
    "                            edge_colors[(vertex+1, neighbor+1)] = 'yellow'  # Set edge color as yellow if already open\n",
    "                        else:\n",
    "                            if (neighbor, vertex) in adjacency_list and vertex in adjacency_list[neighbor]:\n",
    "                                edge_colors[(vertex+1, neighbor+1)] = 'red'  # Set edge color as red if i is the parent of j\n",
    "                            else:\n",
    "                                edge_colors[(vertex+1, neighbor+1)] = 'blue'  # Set edge color as blue if not open yet\n",
    "        else:\n",
    "            closing_time[vertex] = time\n",
    "            time += 1\n",
    "\n",
    "    return opening_time, closing_time, edge_colors  # Return edge_colors along with opening_time and closing_time\n",
    "\n",
    "opening_time, closing_time, edge_colors = depth_first_search(adjacency_list, 0)\n",
    "for edge, color in edge_colors.items():\n",
    "    print(f\"The color of edge {edge} is {color}\")\n",
    "\n",
    "\n",
    "\n",
    "\n",
    "\n",
    "\n"
   ]
  },
  {
   "cell_type": "code",
   "execution_count": 8,
   "metadata": {},
   "outputs": [
    {
     "data": {
      "text/plain": [
       "({0: 1, 6: 2, 7: 3, 8: 4, 9: 5, 2: 6, 5: 7, 1: 8, 4: 11, 3: 12},\n",
       " {1: 9, 5: 10, 3: 13, 4: 14, 2: 15, 9: 16, 8: 17, 7: 18, 6: 19, 0: 20},\n",
       " {(1, 3): 'blue',\n",
       "  (1, 5): 'blue',\n",
       "  (1, 7): 'blue',\n",
       "  (7, 8): 'blue',\n",
       "  (8, 2): 'blue',\n",
       "  (8, 9): 'blue',\n",
       "  (9, 10): 'blue',\n",
       "  (10, 3): 'blue',\n",
       "  (3, 4): 'blue',\n",
       "  (3, 5): 'blue',\n",
       "  (3, 6): 'blue',\n",
       "  (6, 2): 'blue',\n",
       "  (5, 4): 'blue'})"
      ]
     },
     "execution_count": 8,
     "metadata": {},
     "output_type": "execute_result"
    }
   ],
   "source": [
    "#inconsistencia de labels, a lista inserida mostra como 0 a 9 e aqui é mostrado como 0 a 10\n",
    "#grafo 2 era pra mostrar arestas vermelhas\n",
    "depth_first_search(adjacency_list, 0)"
   ]
  },
  {
   "cell_type": "code",
   "execution_count": 10,
   "metadata": {},
   "outputs": [
    {
     "name": "stdout",
     "output_type": "stream",
     "text": [
      "0 2 4 6 3 5 9 7 1 8 \n"
     ]
    }
   ],
   "source": [
    "from collections import deque\n",
    "\n",
    "def breadth_first_search(graph, start_vertex):\n",
    "    visited = set()\n",
    "    queue = deque([start_vertex])\n",
    "    \n",
    "    while queue:\n",
    "        vertex = queue.popleft()\n",
    "        if vertex not in visited:\n",
    "            visited.add(vertex)\n",
    "            print(vertex, end=' ')\n",
    "            queue.extend(graph[vertex])\n",
    "    \n",
    "    print()\n",
    "\n",
    "breadth_first_search(adjacency_list, 0)\n"
   ]
  },
  {
   "cell_type": "code",
   "execution_count": 11,
   "metadata": {},
   "outputs": [
    {
     "name": "stdout",
     "output_type": "stream",
     "text": [
      "0 2 4 6 3 5 9 7 1 8 \n"
     ]
    }
   ],
   "source": [
    "breadth_first_search(adjacency_list, 0)"
   ]
  }
 ],
 "metadata": {
  "kernelspec": {
   "display_name": "Python 3",
   "language": "python",
   "name": "python3"
  },
  "language_info": {
   "codemirror_mode": {
    "name": "ipython",
    "version": 3
   },
   "file_extension": ".py",
   "mimetype": "text/x-python",
   "name": "python",
   "nbconvert_exporter": "python",
   "pygments_lexer": "ipython3",
   "version": "3.10.7"
  }
 },
 "nbformat": 4,
 "nbformat_minor": 2
}
