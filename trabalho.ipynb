{
 "cells": [
  {
   "cell_type": "code",
   "execution_count": 62,
   "metadata": {},
   "outputs": [
    {
     "name": "stdout",
     "output_type": "stream",
     "text": [
      "Adjacency Matrix:\n",
      "[0, 0, 1, 0, 0, 0, 0, 0, 0, 0]\n",
      "[0, 0, 0, 1, 0, 1, 0, 0, 1, 0]\n",
      "[1, 0, 0, 0, 0, 1, 0, 0, 0, 1]\n",
      "[0, 1, 0, 0, 0, 0, 0, 0, 0, 0]\n",
      "[0, 0, 0, 0, 0, 1, 1, 0, 0, 0]\n",
      "[0, 1, 1, 0, 1, 0, 0, 0, 0, 0]\n",
      "[0, 0, 0, 0, 1, 0, 0, 0, 0, 0]\n",
      "[0, 0, 0, 0, 0, 0, 0, 0, 0, 1]\n",
      "[0, 1, 0, 0, 0, 0, 0, 0, 0, 0]\n",
      "[0, 0, 1, 0, 0, 0, 0, 1, 0, 0]\n",
      "Adjacency List:\n",
      "0: [2]\n",
      "1: [3, 5, 8]\n",
      "2: [0, 5, 9]\n",
      "3: [1]\n",
      "4: [5, 6]\n",
      "5: [1, 2, 4]\n",
      "6: [4]\n",
      "7: [9]\n",
      "8: [1]\n",
      "9: [2, 7]\n"
     ]
    }
   ],
   "source": [
    "def read_graph(file_path):\n",
    "    adjacency_matrix = []\n",
    "    adjacency_list = {}\n",
    "    \n",
    "    with open(file_path, 'r') as file:\n",
    "        lines = file.readlines()\n",
    "        lines.pop(0)\n",
    "        for i in range(len(lines)):\n",
    "            lines[i] = lines[i].split()\n",
    "            lines[i] = [int(x) for x in lines[i]]\n",
    "        for line in lines:\n",
    "            adjacency_matrix.append(line)\n",
    "        for i in range(len(adjacency_matrix)):\n",
    "            adjacency_list[i] = []\n",
    "            for j in range(len(adjacency_matrix[i])):\n",
    "                if adjacency_matrix[i][j] == 1:\n",
    "                    adjacency_list[i].append(j)\n",
    "                    \n",
    "\n",
    "    \n",
    "    return adjacency_matrix, adjacency_list\n",
    "\n",
    "adjacency_matrix, adjacency_list = read_graph('grafo.txt')\n",
    "print(\"Adjacency Matrix:\")\n",
    "for row in adjacency_matrix:\n",
    "    print(row)\n",
    "print(\"Adjacency List:\")\n",
    "for vertex, neighbors in adjacency_list.items():\n",
    "    print(f\"{vertex}: {neighbors}\")\n"
   ]
  },
  {
   "cell_type": "code",
   "execution_count": 63,
   "metadata": {},
   "outputs": [
    {
     "name": "stdout",
     "output_type": "stream",
     "text": [
      "(0, 2): blue\n",
      "(1, 3): blue\n",
      "(1, 5): red\n",
      "(1, 8): blue\n",
      "(2, 5): blue\n",
      "(2, 9): blue\n",
      "(4, 5): red\n",
      "(4, 6): blue\n",
      "(7, 9): red\n"
     ]
    }
   ],
   "source": [
    "def depth_first_search(graph, start_vertex):\n",
    "    visited = set()\n",
    "    stack = [(start_vertex, 'open')]\n",
    "    opening_time = {}\n",
    "    closing_time = {}\n",
    "    time = 1\n",
    "\n",
    "    while stack:\n",
    "        vertex, status = stack.pop()\n",
    "\n",
    "        if status == 'open':\n",
    "            if vertex not in visited:\n",
    "                visited.add(vertex)\n",
    "                opening_time[vertex] = time\n",
    "                time += 1\n",
    "                stack.append((vertex, 'close'))\n",
    "                stack.extend((neighbor, 'open') for neighbor in graph[vertex] if neighbor not in visited)\n",
    "        else:\n",
    "            closing_time[vertex] = time\n",
    "            time += 1\n",
    "\n",
    "    return opening_time, closing_time\n",
    "\n",
    "opening_time, closing_time = depth_first_search(adjacency_list, 0)\n",
    "\n",
    "def classify_edges(adjacency_list, opening_time, closing_time):\n",
    "    edge_colors = {}\n",
    "    \n",
    "    for vertex, neighbors in adjacency_list.items():\n",
    "        for neighbor in neighbors:\n",
    "            if (vertex, neighbor) in edge_colors or (neighbor, vertex) in edge_colors:\n",
    "                continue  # Skip if the edge has already been classified\n",
    "            if opening_time[vertex] < opening_time[neighbor] and closing_time[vertex] > closing_time[neighbor]:\n",
    "                edge_colors[(vertex, neighbor)] = \"blue\"  # Edge is part of the depth forest\n",
    "            elif opening_time[vertex] > opening_time[neighbor] and closing_time[vertex] < closing_time[neighbor]:\n",
    "                edge_colors[(vertex, neighbor)] = \"red\"  # Edge is a return edge\n",
    "            elif opening_time[vertex] < opening_time[neighbor] and closing_time[vertex] > closing_time[neighbor]:\n",
    "                edge_colors[(vertex, neighbor)] = \"yellow\"  # Edge is a forward edge\n",
    "            elif opening_time[vertex] > opening_time[neighbor] and closing_time[vertex] > closing_time[neighbor]:\n",
    "                edge_colors[(vertex, neighbor)] = \"green\"  # Edge is a cross edge\n",
    "            else:\n",
    "                edge_colors[(vertex, neighbor)] = \"none\"  # Edge is not classified\n",
    "    \n",
    "    return edge_colors\n",
    "\n",
    "edge_colors = classify_edges(adjacency_list, opening_time, closing_time)\n",
    "\n",
    "for edge, color in edge_colors.items():\n",
    "    print(f\"{edge}: {color}\")\n",
    "\n",
    "\n",
    "\n"
   ]
  },
  {
   "cell_type": "code",
   "execution_count": 64,
   "metadata": {},
   "outputs": [
    {
     "name": "stdout",
     "output_type": "stream",
     "text": [
      "0 2 5 9 1 4 7 3 8 6 \n"
     ]
    }
   ],
   "source": [
    "from collections import deque\n",
    "\n",
    "def breadth_first_search(graph, start_vertex):\n",
    "    visited = set()\n",
    "    queue = deque([start_vertex])\n",
    "    \n",
    "    while queue:\n",
    "        vertex = queue.popleft()\n",
    "        if vertex not in visited:\n",
    "            visited.add(vertex)\n",
    "            print(vertex, end=' ')\n",
    "            queue.extend(graph[vertex])\n",
    "    \n",
    "    print()\n",
    "\n",
    "breadth_first_search(adjacency_list, 0)\n"
   ]
  }
 ],
 "metadata": {
  "kernelspec": {
   "display_name": "Python 3",
   "language": "python",
   "name": "python3"
  },
  "language_info": {
   "codemirror_mode": {
    "name": "ipython",
    "version": 3
   },
   "file_extension": ".py",
   "mimetype": "text/x-python",
   "name": "python",
   "nbconvert_exporter": "python",
   "pygments_lexer": "ipython3",
   "version": "3.10.12"
  }
 },
 "nbformat": 4,
 "nbformat_minor": 2
}
